{
 "cells": [
  {
   "cell_type": "markdown",
   "metadata": {},
   "source": [
    "# Classificação de Risco Psicológico com Machine Learning\n",
    "\n",
    "Este projeto simula dados coletados por um app de apoio psicológico remoto em contextos de calamidade e usa Machine Learning para classificar o risco emocional dos usuários.\n"
   ]
  },
  {
   "cell_type": "markdown",
   "metadata": {},
   "source": [
    "## 1. Importação das bibliotecas\n",
    "\n",
    "Importamos as bibliotecas necessárias para manipulação de dados, construção do modelo, avaliação e visualização.\n"
   ]
  },
  {
   "cell_type": "code",
   "execution_count": 9,
   "metadata": {},
   "outputs": [],
   "source": [
    "import pandas as pd\n",
    "import numpy as np\n",
    "from sklearn.model_selection import train_test_split\n",
    "from sklearn.preprocessing import LabelEncoder, StandardScaler\n",
    "from sklearn.ensemble import RandomForestClassifier\n",
    "from sklearn.metrics import classification_report, confusion_matrix\n",
    "import matplotlib.pyplot as plt\n",
    "import seaborn as sns\n"
   ]
  },
  {
   "cell_type": "markdown",
   "metadata": {},
   "source": [
    "## 2. Simulação da base de dados\n",
    "\n",
    "Simulamos uma base com variáveis como idade, sono, estresse, ansiedade, tristeza, isolamento social e risco emocional (baixa, moderada ou alta).\n"
   ]
  },
  {
   "cell_type": "code",
   "execution_count": 10,
   "metadata": {},
   "outputs": [
    {
     "data": {
      "text/html": [
       "<div>\n",
       "<style scoped>\n",
       "    .dataframe tbody tr th:only-of-type {\n",
       "        vertical-align: middle;\n",
       "    }\n",
       "\n",
       "    .dataframe tbody tr th {\n",
       "        vertical-align: top;\n",
       "    }\n",
       "\n",
       "    .dataframe thead th {\n",
       "        text-align: right;\n",
       "    }\n",
       "</style>\n",
       "<table border=\"1\" class=\"dataframe\">\n",
       "  <thead>\n",
       "    <tr style=\"text-align: right;\">\n",
       "      <th></th>\n",
       "      <th>idade</th>\n",
       "      <th>sexo</th>\n",
       "      <th>duracao_sono</th>\n",
       "      <th>nivel_estresse</th>\n",
       "      <th>nivel_ansiedade</th>\n",
       "      <th>nivel_tristeza</th>\n",
       "      <th>frequencia_choro</th>\n",
       "      <th>isolamento_social</th>\n",
       "      <th>risco</th>\n",
       "    </tr>\n",
       "  </thead>\n",
       "  <tbody>\n",
       "    <tr>\n",
       "      <th>0</th>\n",
       "      <td>56</td>\n",
       "      <td>Masculino</td>\n",
       "      <td>6.5</td>\n",
       "      <td>5</td>\n",
       "      <td>5</td>\n",
       "      <td>1</td>\n",
       "      <td>2</td>\n",
       "      <td>1</td>\n",
       "      <td>Baixo</td>\n",
       "    </tr>\n",
       "    <tr>\n",
       "      <th>1</th>\n",
       "      <td>46</td>\n",
       "      <td>Feminino</td>\n",
       "      <td>5.2</td>\n",
       "      <td>1</td>\n",
       "      <td>2</td>\n",
       "      <td>1</td>\n",
       "      <td>6</td>\n",
       "      <td>5</td>\n",
       "      <td>Moderado</td>\n",
       "    </tr>\n",
       "    <tr>\n",
       "      <th>2</th>\n",
       "      <td>32</td>\n",
       "      <td>Masculino</td>\n",
       "      <td>6.6</td>\n",
       "      <td>5</td>\n",
       "      <td>3</td>\n",
       "      <td>1</td>\n",
       "      <td>3</td>\n",
       "      <td>4</td>\n",
       "      <td>Moderado</td>\n",
       "    </tr>\n",
       "    <tr>\n",
       "      <th>3</th>\n",
       "      <td>60</td>\n",
       "      <td>Outro</td>\n",
       "      <td>5.5</td>\n",
       "      <td>1</td>\n",
       "      <td>3</td>\n",
       "      <td>5</td>\n",
       "      <td>4</td>\n",
       "      <td>3</td>\n",
       "      <td>Moderado</td>\n",
       "    </tr>\n",
       "    <tr>\n",
       "      <th>4</th>\n",
       "      <td>25</td>\n",
       "      <td>Outro</td>\n",
       "      <td>8.0</td>\n",
       "      <td>2</td>\n",
       "      <td>4</td>\n",
       "      <td>1</td>\n",
       "      <td>4</td>\n",
       "      <td>3</td>\n",
       "      <td>Moderado</td>\n",
       "    </tr>\n",
       "  </tbody>\n",
       "</table>\n",
       "</div>"
      ],
      "text/plain": [
       "   idade       sexo  duracao_sono  nivel_estresse  nivel_ansiedade  \\\n",
       "0     56  Masculino           6.5               5                5   \n",
       "1     46   Feminino           5.2               1                2   \n",
       "2     32  Masculino           6.6               5                3   \n",
       "3     60      Outro           5.5               1                3   \n",
       "4     25      Outro           8.0               2                4   \n",
       "\n",
       "   nivel_tristeza  frequencia_choro  isolamento_social     risco  \n",
       "0               1                 2                  1     Baixo  \n",
       "1               1                 6                  5  Moderado  \n",
       "2               1                 3                  4  Moderado  \n",
       "3               5                 4                  3  Moderado  \n",
       "4               1                 4                  3  Moderado  "
      ]
     },
     "execution_count": 10,
     "metadata": {},
     "output_type": "execute_result"
    }
   ],
   "source": [
    "np.random.seed(42)\n",
    "n = 300\n",
    "data = {\n",
    "    \"idade\": np.random.randint(18, 65, size=n),\n",
    "    \"sexo\": np.random.choice([\"Masculino\", \"Feminino\", \"Outro\"], size=n),\n",
    "    \"duracao_sono\": np.random.normal(6.5, 1.5, size=n).round(1),\n",
    "    \"nivel_estresse\": np.random.randint(1, 6, size=n),\n",
    "    \"nivel_ansiedade\": np.random.randint(1, 6, size=n),\n",
    "    \"nivel_tristeza\": np.random.randint(1, 6, size=n),\n",
    "    \"frequencia_choro\": np.random.randint(0, 7, size=n),\n",
    "    \"isolamento_social\": np.random.randint(1, 6, size=n),\n",
    "    \"risco\": np.random.choice([\"Baixo\", \"Moderado\", \"Alto\"], size=n, p=[0.4, 0.4, 0.2])\n",
    "}\n",
    "df = pd.DataFrame(data)\n",
    "df.head()\n"
   ]
  },
  {
   "cell_type": "markdown",
   "metadata": {},
   "source": [
    "## 3. Pré-processamento dos dados\n",
    "\n",
    "Codificamos variáveis categóricas, normalizamos os dados e dividimos em treino e teste.\n"
   ]
  },
  {
   "cell_type": "code",
   "execution_count": 11,
   "metadata": {},
   "outputs": [],
   "source": [
    "df_model = df.copy()\n",
    "label_encoders = {}\n",
    "\n",
    "for col in ['sexo', 'risco']:\n",
    "    le = LabelEncoder()\n",
    "    df_model[col] = le.fit_transform(df_model[col])\n",
    "    label_encoders[col] = le\n",
    "\n",
    "X = df_model.drop(columns='risco')\n",
    "y = df_model['risco']\n",
    "\n",
    "scaler = StandardScaler()\n",
    "X_scaled = scaler.fit_transform(X)\n",
    "\n",
    "X_train, X_test, y_train, y_test = train_test_split(X_scaled, y, test_size=0.3, random_state=42)\n"
   ]
  },
  {
   "cell_type": "markdown",
   "metadata": {},
   "source": [
    "## 4. Treinamento e avaliação do modelo\n",
    "\n",
    "Utilizamos Random Forest para classificar o risco emocional. Avaliamos com relatório de classificação e matriz de confusão.\n"
   ]
  },
  {
   "cell_type": "code",
   "execution_count": 12,
   "metadata": {},
   "outputs": [
    {
     "name": "stdout",
     "output_type": "stream",
     "text": [
      "Classification Report:\n",
      "               precision    recall  f1-score   support\n",
      "\n",
      "           0       0.25      0.05      0.08        20\n",
      "           1       0.39      0.50      0.44        30\n",
      "           2       0.48      0.57      0.52        40\n",
      "\n",
      "    accuracy                           0.43        90\n",
      "   macro avg       0.37      0.38      0.35        90\n",
      "weighted avg       0.40      0.43      0.40        90\n",
      "\n"
     ]
    },
    {
     "data": {
      "image/png": "[encoded data removed]",
      "text/plain": [
       "<Figure size 600x400 with 2 Axes>"
      ]
     },
     "metadata": {},
     "output_type": "display_data"
    }
   ],
   "source": [
    "model = RandomForestClassifier(n_estimators=100, random_state=42)\n",
    "model.fit(X_train, y_train)\n",
    "y_pred = model.predict(X_test)\n",
    "\n",
    "print(\"Classification Report:\\n\", classification_report(y_test, y_pred))\n",
    "\n",
    "conf_matrix = confusion_matrix(y_test, y_pred)\n",
    "plt.figure(figsize=(6, 4))\n",
    "sns.heatmap(conf_matrix, annot=True, fmt='d', cmap='Blues',\n",
    "            xticklabels=label_encoders['risco'].classes_,\n",
    "            yticklabels=label_encoders['risco'].classes_)\n",
    "plt.xlabel('Previsto')\n",
    "plt.ylabel('Real')\n",
    "plt.title('Matriz de Confusão - Classificação de Risco Emocional')\n",
    "plt.tight_layout()\n",
    "plt.show()\n"
   ]
  }
 ],
 "metadata": {
  "kernelspec": {
   "display_name": "base",
   "language": "python",
   "name": "python3"
  },
  "language_info": {
   "codemirror_mode": {
    "name": "ipython",
    "version": 3
   },
   "file_extension": ".py",
   "mimetype": "text/x-python",
   "name": "python",
   "nbconvert_exporter": "python",
   "pygments_lexer": "ipython3",
   "version": "3.11.7"
  }
 },
 "nbformat": 4,
 "nbformat_minor": 2
}
